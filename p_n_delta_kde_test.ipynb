{
 "cells": [
  {
   "cell_type": "code",
   "execution_count": 1,
   "id": "8d6a1ff6",
   "metadata": {},
   "outputs": [],
   "source": [
    "# loading required packages\n",
    "import ctypes\n",
    "import sys\n",
    "import numpy as np\n",
    "import os\n",
    "import matplotlib.pyplot as plt"
   ]
  },
  {
   "cell_type": "code",
   "execution_count": 2,
   "id": "aefed79e",
   "metadata": {},
   "outputs": [],
   "source": [
    "# compiling and loading c++ library\n",
    "os.system(\"cd cpp_code; make DSS\")\n",
    "lib=ctypes.CDLL(\"./cpp_code/DSS.so\")"
   ]
  },
  {
   "cell_type": "code",
   "execution_count": 3,
   "id": "3886b8f4",
   "metadata": {},
   "outputs": [],
   "source": [
    "# initialising a new universe and its matter content\n",
    "a_initial = 0.000025\n",
    "a_final = 1.0\n",
    "\n",
    "initialise_new_Universe = lib.initialise_new_Universe\n",
    "# initialise_new_Universe          (double a_initial,  double a_final,  double Omega_m,  double Omega_b,  double Omega_r,  double Omega_L,  double sigma_8,      double n_s,    double h_100,       double w0,       double w1)\n",
    "initialise_new_Universe.argtypes = [ ctypes.c_double, ctypes.c_double, ctypes.c_double, ctypes.c_double, ctypes.c_double, ctypes.c_double, ctypes.c_double, ctypes.c_double, ctypes.c_double, ctypes.c_double, ctypes.c_double]\n",
    "initialise_new_Universe.restype = None\n",
    "\n",
    "# Cosmology of Quijote sims\n",
    "Omfid = 0.3175\n",
    "Obfid = 0.049\n",
    "hfid = 0.6711\n",
    "nsfid = 0.9624\n",
    "sig8fid = 0.834\n",
    "\n",
    "# Cosmology of DEUS sims\n",
    "Omfid = 0.2573\n",
    "Obfid = 0.04356 \n",
    "hfid = 0.7200\n",
    "nsfid = 0.9630\n",
    "sig8fid = 0.8010\n",
    "\n",
    "# Cosmology of Buzzard sims\n",
    "Omfid = 0.286\n",
    "Obfid = 0.047\n",
    "hfid = 0.7\n",
    "nsfid = 0.96\n",
    "sig8fid = 0.82\n",
    "\n",
    "z = 1.0 # everywhere in this notebook\n",
    "\n",
    "initialise_new_Universe(a_initial, a_final, Omfid, Obfid, 0.0, 1.0-Omfid, sig8fid, nsfid, hfid, -1.0, 0.0)\n",
    "\n",
    "\n",
    "set_primordial_skewness_from_eps3_powerlaw_approximation = lib.set_primordial_skewness_from_eps3_powerlaw_approximation\n",
    "# set_primordial_skewness_from_eps3_powerlaw_approximation          (int index_of_universe, int PNG_modus, double R_0_in_Mpc_over_h)\n",
    "set_primordial_skewness_from_eps3_powerlaw_approximation.argtypes = [           ctypes.c_int,  ctypes.c_int,          ctypes.c_double]\n",
    "set_primordial_skewness_from_eps3_powerlaw_approximation.restype = None\n",
    "\n",
    "set_primordial_skewness_from_eps3_powerlaw_approximation(0, 1, 15.0)\n"
   ]
  },
  {
   "cell_type": "code",
   "execution_count": 4,
   "id": "62723ad5",
   "metadata": {},
   "outputs": [],
   "source": [
    "\n",
    "# N_delta has to be hardcoded, because is it needed for defining the python-c++ interface\n",
    "return_Ndelta = lib.return_Ndelta\n",
    "return_Ndelta.argtypes = []\n",
    "return_Ndelta.restype = ctypes.c_int\n",
    "N_delta = return_Ndelta()\n",
    "\n",
    "return_PDF = lib.return_PDF\n",
    "# return_PDF          (                   double* delta_values,                                      double* PDF,        double z, double R_in_comoving_Mpc,     double f_NL, double var_NL_rescale, int index_of_universe)\n",
    "return_PDF.argtypes = [ctypes.POINTER(ctypes.c_double*N_delta),          ctypes.POINTER(ctypes.c_double*N_delta), ctypes.c_double,          ctypes.c_double, ctypes.c_double,       ctypes.c_double,          ctypes.c_int]\n",
    "return_PDF.restype = None\n",
    "\n",
    "## This function returns the probability distribution function (PDF) of the 3D matter density field\n",
    "# - at redshift z\n",
    "# - top-hat smoothing radius R [Mpc/h]\n",
    "# - with primordial bispectrum amplitute f_NL\n",
    "# - non-linear variance being var_NL_rescale*halofit (Takahashi et al. 2012, Smith et al. 2003)\n",
    "# - for universe index_of_universe (= 0 if you have only created one universe\n",
    "def PDF_from_inv_Laplace_transform(z, R, f_NL, var_NL_rescale, index_of_universe):\n",
    "    delta_values     = (ctypes.c_double*N_delta)()\n",
    "    PDF_values       = (ctypes.c_double*N_delta)()\n",
    "    return_PDF(ctypes.byref(delta_values), ctypes.byref(PDF_values), z, R, f_NL, var_NL_rescale, index_of_universe)\n",
    "    return np.array(delta_values), np.array(PDF_values)\n",
    "\n",
    "\n",
    "\n",
    "return_Nlambda = lib.return_Nlambda\n",
    "return_Nlambda.argtypes = [ctypes.c_int]\n",
    "return_Nlambda.restype = ctypes.c_int\n",
    "N_lambda = return_Nlambda(0)\n",
    "\n",
    "return_CGF = lib.return_CGF\n",
    "#           return_CGF(                         double* delta_L,                           double* lambda,                              double* phi,              double* dphi_dlambda_values,            double* d2phi_dlambda2_values,    int* N_lambda_uncollapsed,        double z, double R_in_comoving_Mpc,     double f_NL, double var_NL_rescale, int index_of_universe)\n",
    "return_CGF.argtypes = [ctypes.POINTER(ctypes.c_double*N_lambda), ctypes.POINTER(ctypes.c_double*N_lambda), ctypes.POINTER(ctypes.c_double*N_lambda), ctypes.POINTER(ctypes.c_double*N_lambda), ctypes.POINTER(ctypes.c_double*N_lambda), ctypes.POINTER(ctypes.c_int), ctypes.c_double,          ctypes.c_double, ctypes.c_double,       ctypes.c_double,          ctypes.c_int]\n",
    "return_CGF.restype = None\n",
    "\n",
    "## This function returns the cumulant generating function (CGF) of the 3D matter density field\n",
    "# - at redshift z\n",
    "# - top-hat smoothing radius R [Mpc/h]\n",
    "# - with primordial bispectrum amplitute f_NL\n",
    "# - non-linear variance being var_NL_rescale*halofit (Takahashi et al. 2012, Smith et al. 2003)\n",
    "# - for universe index_of_universe (= 0 if you have only created one universe)\n",
    "def CGF(z, R, f_NL, var_NL_rescale, index_of_universe):\n",
    "    delta_L_values        = (ctypes.c_double*N_lambda)()\n",
    "    lambda_values         = (ctypes.c_double*N_lambda)()\n",
    "    phi_values            = (ctypes.c_double*N_lambda)()\n",
    "    dphi_dlambda_values   = (ctypes.c_double*N_lambda)() # == delta_NL_values\n",
    "    d2phi_dlambda2_values = (ctypes.c_double*N_lambda)()\n",
    "    N_lambda_uncollapsed  = (ctypes.c_int)()\n",
    "    #\n",
    "    return_CGF(ctypes.byref(delta_L_values), ctypes.byref(lambda_values), ctypes.byref(phi_values), ctypes.byref(dphi_dlambda_values), ctypes.byref(d2phi_dlambda2_values), ctypes.byref(N_lambda_uncollapsed), z, R, f_NL, var_NL_rescale, index_of_universe)\n",
    "    N_lambda_uncollapsed = N_lambda_uncollapsed.value\n",
    "    return np.array(delta_L_values)[:N_lambda_uncollapsed], np.array(lambda_values)[:N_lambda_uncollapsed], np.array(phi_values)[:N_lambda_uncollapsed], np.array(dphi_dlambda_values)[:N_lambda_uncollapsed], np.array(d2phi_dlambda2_values)[:N_lambda_uncollapsed]\n",
    "\n",
    "## This function returns the PDF of the 3D matter density field using a saddle point\n",
    "## approximation to solve the inverse Laplace transform that relates PDF and CGF.\n",
    "# - at redshift z\n",
    "# - top-hat smoothing radius R [Mpc/h]\n",
    "# - with primordial bispectrum amplitute f_NL\n",
    "# - non-linear variance being var_NL_rescale*halofit (Takahashi et al. 2012, Smith et al. 2003)\n",
    "# - for universe index_of_universe (= 0 if you have only created one universe\n",
    "def PDF_from_saddlepoint(z, R, delta_min, delta_max, f_NL, var_NL_rescale, index_of_universe):\n",
    "    d_L, l, phi, dphi_dl, d2phi_dl2 = CGF(z, R, f_NL, var_NL_rescale, index_of_universe)\n",
    "    Nl = len(l)\n",
    "    ddelta = (delta_max-delta_min)/float(N_delta-1)\n",
    "    delta_values     = np.arange(0, N_delta)*ddelta+delta_min\n",
    "    PDF_values       = np.zeros(N_delta)\n",
    "    phi_interp = np.interp(delta_values, dphi_dl, phi)\n",
    "    phi_prime_prime_interp = np.interp(delta_values, dphi_dl, d2phi_dl2)\n",
    "    l_interp = np.interp(delta_values, dphi_dl, l)\n",
    "    indeces = np.where(phi_prime_prime_interp>0.0)[0]\n",
    "    PDF_values[indeces]       = np.exp(-l_interp[indeces]*delta_values[indeces]+phi_interp[indeces])/np.sqrt(2.0*np.pi*phi_prime_prime_interp[indeces])\n",
    "    return delta_values, PDF_values"
   ]
  },
  {
   "cell_type": "code",
   "execution_count": 15,
   "id": "b3fad4b3",
   "metadata": {},
   "outputs": [],
   "source": [
    "delta_values, PDF_values = PDF_from_inv_Laplace_transform(z, 15.0, 0.0, 1.0, 0)"
   ]
  },
  {
   "cell_type": "code",
   "execution_count": 6,
   "id": "8dcfabfe",
   "metadata": {},
   "outputs": [
    {
     "data": {
      "image/png": "[encoded data removed]",
      "text/plain": [
       "<Figure size 432x288 with 1 Axes>"
      ]
     },
     "metadata": {
      "needs_background": "light"
     },
     "output_type": "display_data"
    }
   ],
   "source": [
    "plt.plot(delta_values, PDF_values, linewidth=3, linestyle='solid', label='inverse Laplace')\n",
    "\n",
    "\n",
    "plt.legend(fontsize=13, loc='upper right')\n",
    "plt.xticks(fontsize=14)\n",
    "plt.yticks(fontsize=14)\n",
    "var = np.sum(delta_values**2*PDF_values)/np.sum(PDF_values)\n",
    "plt.xlim(-1.0, 6.0*np.sqrt(var))\n",
    "\n",
    "plt.xlabel(r'$\\delta$', size = 20)\n",
    "plt.ylabel(r'$\\mathrm{PDF}(\\delta)$', size = 20)\n",
    "plt.subplots_adjust(left  = 0.18, right = 0.97, bottom=0.17, top=0.92)"
   ]
  },
  {
   "cell_type": "code",
   "execution_count": 7,
   "id": "4b98426f",
   "metadata": {},
   "outputs": [],
   "source": [
    "# bias_model = 0: Eulerian\n",
    "# bias_model = 1: Lagrangian\n",
    "add_3D_galaxy_sample = lib.add_3D_galaxy_sample\n",
    "# add_3D_galaxy_sample          (int index_of_universe,        double z, double density_in_Mpc_over_h_cubed,        double b1,        double b2,       double a0,       double a1,   bias_model)\n",
    "add_3D_galaxy_sample.argtypes = [         ctypes.c_int, ctypes.c_double,                    ctypes.c_double,  ctypes.c_double,  ctypes.c_double, ctypes.c_double, ctypes.c_double, ctypes.c_int]\n",
    "add_3D_galaxy_sample.restype = None\n",
    "\n",
    "\n",
    "change_parameters_of_3D_galaxy_sample = lib.change_parameters_of_3D_galaxy_sample\n",
    "# change_parameters_of_3D_galaxy_sample          (int index_of_galaxy_sample,        double z, double density_in_Mpc_over_h_cubed,        double b1,        double b2,       double a0,       double a1,   bias_model)\n",
    "change_parameters_of_3D_galaxy_sample.argtypes = [              ctypes.c_int, ctypes.c_double,                    ctypes.c_double,  ctypes.c_double,  ctypes.c_double, ctypes.c_double, ctypes.c_double, ctypes.c_int]\n",
    "change_parameters_of_3D_galaxy_sample.restype = None\n",
    "\n",
    "# Creating a galaxy sample\n",
    "bias_model = 0\n",
    "density_sample_1 = 0.002\n",
    "b1_sample_1 = 1.6\n",
    "b2_sample_1 = 0.0\n",
    "a0 = 1.26\n",
    "a1 = 0.29\n",
    "add_3D_galaxy_sample(0, z, density_sample_1, b1_sample_1, b2_sample_1, a0, a1, bias_model)\n",
    "# Changing parameters first galaxy sample\n",
    "density_sample_1 = 0.001\n",
    "change_parameters_of_3D_galaxy_sample(0, z, density_sample_1, b1_sample_1, b2_sample_1, a0, a1, bias_model)"
   ]
  },
  {
   "cell_type": "code",
   "execution_count": 11,
   "id": "8467b7ac",
   "metadata": {},
   "outputs": [],
   "source": [
    "Nmax=100\n",
    "N = np.repeat(range(100),len(delta_values))\n",
    "delta = np.tile(delta_values,Nmax)\n",
    "npoints = len(delta)\n",
    "\n",
    "return_P_of_N_given_delta_m = lib.return_P_of_N_given_delta_m\n",
    "# return_P_of_N_given_delta_m(double* P_of_N_given_delta, double* delta, double* N, double N_bar, int npoints, int index_of_galaxy_sample)\n",
    "return_P_of_N_given_delta_m.argtypes = [ctypes.POINTER(ctypes.c_double*npoints), ctypes.POINTER(ctypes.c_double*npoints), ctypes.POINTER(ctypes.c_double*npoints), ctypes.c_double, ctypes.c_int, ctypes.c_int]\n",
    "return_P_of_N_given_delta_m.restype = None\n"
   ]
  },
  {
   "cell_type": "code",
   "execution_count": 14,
   "id": "7febc196",
   "metadata": {},
   "outputs": [
    {
     "data": {
      "text/plain": [
       "6000000"
      ]
     },
     "execution_count": 14,
     "metadata": {},
     "output_type": "execute_result"
    }
   ],
   "source": [
    "len(delta)"
   ]
  },
  {
   "cell_type": "code",
   "execution_count": null,
   "id": "67c951e6",
   "metadata": {},
   "outputs": [],
   "source": []
  }
 ],
 "metadata": {
  "kernelspec": {
   "display_name": "Python 3",
   "language": "python",
   "name": "python3"
  },
  "language_info": {
   "codemirror_mode": {
    "name": "ipython",
    "version": 3
   },
   "file_extension": ".py",
   "mimetype": "text/x-python",
   "name": "python",
   "nbconvert_exporter": "python",
   "pygments_lexer": "ipython3",
   "version": "3.8.8"
  }
 },
 "nbformat": 4,
 "nbformat_minor": 5
}
